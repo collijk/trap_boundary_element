{
 "cells": [
  {
   "cell_type": "markdown",
   "metadata": {},
   "source": [
    "For all of the complex electrodes, we need to collect all the coordinate data (from the RS1096.svg file).  Since we're going from a 2D representation to a 3D model and adding some metadata as well as trying to parameterize the geometry, this is done by hand.  I tried parsing the SVG file algorithmically, but ended up with eight million diverse and ridiculous errors. The resulting code fixing these errors would have too obtuse for anyone to fix in the likely event that I make some errors that go uncaught and you, poor friend, have to come back and make some edits.\n",
    "\n",
    "The reference electrode for groups of electrodes is the bottom right electrode in the svg file (the trap has essentially 90-degree rotational symmetry about its center). In the horizontal portion of the trap, electrodes are specified from the top left-most point and then proceed counterclockwise about the the vertices (orientation is important when building trap surfaces, etc.\n",
    "\n",
    "There are three reference 'T' electrodes then, referred to as t_inner, t_mid, and t_outer\n",
    "where the name represents their distance from the trap center.  Note that the t_outer electrode is unique in that it has two teirs.  It is the electrode that transistions from the slotted trap region to the solid trap region and from the M3 level to the M4 level."
   ]
  },
  {
   "cell_type": "code",
   "execution_count": 1,
   "metadata": {
    "collapsed": false
   },
   "outputs": [],
   "source": [
    "import numpy as np\n",
    "scale = 70/6.189 # conversion from svg coordinates to microns\n",
    "\n",
    "def to_local_coords(absolute_coords):\n",
    "    \"\"\"Converts from absolute coordinates in pixels\n",
    "       to local coordinates in microns.\n",
    "    \n",
    "    Arguments\n",
    "    ---------\n",
    "    absolute_coords: list of tuples\n",
    "        A list of the (x,y) pixel coordinates of the electrode\n",
    "        as measured from RS1096.svg.\n",
    "        \n",
    "    Returns\n",
    "    -------\n",
    "    local_coords:\n",
    "        A list of the (x,y) local coordinates in microns measured\n",
    "        from the top-left vertex on electrodes in the central \n",
    "        horizontal region electrodes and from the top-right vertex\n",
    "        in the angled region.\n",
    "    \"\"\"\n",
    "    # The first coordinate becomes our reference point for\n",
    "    # positioning the electrode.\n",
    "    cx, cy = absolute_coords[0]\n",
    "    local_coords = [(scale*(x-cx),scale*(y-cy)) for x,y in absolute_coords]\n",
    "    return np.around(local_coords, decimals=3)\n",
    "    \n",
    "def pretty_print(coords):\n",
    "    \n",
    "    print('(({:.3f}, {:.3f}),'.format(coords[0][0], coords[0][1]))\n",
    "    \n",
    "    for c in coords[1:-1]:\n",
    "        print('({:.3f}, {:.3f}),'.format(c[0], c[1]))\n",
    "    \n",
    "    print('({:.3f}, {:.3f}))'.format(coords[-1][0], coords[-1][1]))"
   ]
  },
  {
   "cell_type": "code",
   "execution_count": 2,
   "metadata": {
    "collapsed": false
   },
   "outputs": [
    {
     "name": "stdout",
     "output_type": "stream",
     "text": [
      "((0.000, 0.000),\n",
      "(0.000, -23.921),\n",
      "(5.587, -23.356),\n",
      "(12.668, -20.777),\n",
      "(19.737, -21.727),\n",
      "(26.806, -24.374),\n",
      "(33.886, -22.395),\n",
      "(40.955, -20.721),\n",
      "(48.024, -23.209),\n",
      "(55.093, -25.279),\n",
      "(62.162, -28.152),\n",
      "(69.242, -27.891),\n",
      "(76.311, -26.410),\n",
      "(83.403, -27.925),\n",
      "(90.472, -27.190),\n",
      "(91.331, -27.043),\n",
      "(91.331, -4.649),\n",
      "(83.403, -6.175),\n",
      "(69.242, -3.676),\n",
      "(55.093, -4.479),\n",
      "(40.955, 9.716),\n",
      "(26.806, 10.948),\n",
      "(12.668, 17.520))\n"
     ]
    }
   ],
   "source": [
    "t_inner_coords = [(443.874, 106.920),\n",
    "                  (443.874, 104.805),\n",
    "                  (444.368, 104.855),\n",
    "                  (444.994, 105.083),                  \n",
    "                  (445.619, 104.999),\n",
    "                  (446.244, 104.765),\n",
    "                  (446.870, 104.940),\n",
    "                  (447.495, 105.088),\n",
    "                  (448.120, 104.868),\n",
    "                  (448.745, 104.685),\n",
    "                  (449.370, 104.431),\n",
    "                  (449.996, 104.454),\n",
    "                  (450.621, 104.585),\n",
    "                  (451.248, 104.451),\n",
    "                  (451.873, 104.516),\n",
    "                  (451.949, 104.529),\n",
    "                  (451.949, 106.509),\n",
    "                  (451.248, 106.374),\n",
    "                  (449.996, 106.595),\n",
    "                  (448.745, 106.524),\n",
    "                  (447.495, 107.779),\n",
    "                  (446.244, 107.888),\n",
    "                  (444.994, 108.469)]\n",
    "\n",
    "lc = to_local_coords(t_inner_coords)\n",
    "pretty_print(lc)"
   ]
  },
  {
   "cell_type": "code",
   "execution_count": 3,
   "metadata": {
    "collapsed": false
   },
   "outputs": [
    {
     "name": "stdout",
     "output_type": "stream",
     "text": [
      "((0.000, 0.000),\n",
      "(0.000, -22.451),\n",
      "(3.223, -21.920),\n",
      "(10.304, -22.542),\n",
      "(17.373, -23.989),\n",
      "(24.453, -23.413),\n",
      "(31.522, -21.659),\n",
      "(38.591, -21.772),\n",
      "(45.671, -23.401),\n",
      "(52.740, -22.779),\n",
      "(59.809, -20.732),\n",
      "(66.878, -18.097),\n",
      "(73.947, -20.313),\n",
      "(81.039, -21.603),\n",
      "(88.108, -23.797),\n",
      "(91.331, -25.098),\n",
      "(91.331, 13.618),\n",
      "(88.108, 14.579),\n",
      "(73.947, 12.487),\n",
      "(59.809, 5.112),\n",
      "(45.671, 2.443),\n",
      "(31.522, 3.438),\n",
      "(17.373, 6.639),\n",
      "(3.223, 0.622))\n"
     ]
    }
   ],
   "source": [
    "t_mid_coords = [(452.214, 106.559),\n",
    "                (452.214, 104.574),\n",
    "                (452.499, 104.621),\n",
    "                (453.125, 104.566),\n",
    "                (453.750, 104.438),\n",
    "                (454.376, 104.489),\n",
    "                (455.001, 104.644),\n",
    "                (455.626, 104.634),\n",
    "                (456.252, 104.490),\n",
    "                (456.877, 104.545),\n",
    "                (457.502, 104.726),\n",
    "                (458.127, 104.959),\n",
    "                (458.752, 104.763),\n",
    "                (459.379, 104.649),\n",
    "                (460.004, 104.455),\n",
    "                (460.289, 104.340),\n",
    "                (460.289, 107.763),\n",
    "                (460.004, 107.848),\n",
    "                (458.752, 107.663),\n",
    "                (457.502, 107.011),\n",
    "                (456.252, 106.775),\n",
    "                (455.001, 106.863),\n",
    "                (453.750, 107.146),\n",
    "                (452.499, 106.614)]\n",
    "\n",
    "lc = to_local_coords(t_mid_coords)\n",
    "pretty_print(lc)"
   ]
  },
  {
   "cell_type": "code",
   "execution_count": null,
   "metadata": {
    "collapsed": true
   },
   "outputs": [],
   "source": [
    "t_out_coords_bot = [(460.555, 104.233),\n",
    "                    (460.555, 107.683),\n",
    "                    (461.256, 104.472),\n",
    "                    (462.507, 106.670),\n",
    "                    (463.759, 107.142),\n",
    "                    (465.009, 106.439),\n",
    "                    (466.259, 106.228),\n",
    "                    (467.510, 109.255),\n",
    "                    (468.629, 109.255),\n",
    "                    (468.629, 105.792),\n",
    "                    (468.136, 105.790),\n",
    "                    (465.009, 105.664),\n",
    "                    (464.384, 104.689),\n",
    "                    (463.759, 104.644),\n",
    "                    (463.132, 104.527),\n",
    "                    (462.507, 104.545),\n",
    "                    (461.882, 104.608),\n",
    "                    (461.256, 104.589)                    \n",
    "                   ]\n",
    "\n",
    "t_out_coords_top = [(465.009, 106.439),\n",
    "                    (466.259, 106.228),\n",
    "                    (467.510, 109.256),\n",
    "                    (468.629, 109.256),\n",
    "                    (468.629, 106.334),\n",
    "                    (467.510, 106.061),\n",
    "                    (465.009, 105.946)                    \n",
    "                   ]"
   ]
  },
  {
   "cell_type": "code",
   "execution_count": null,
   "metadata": {
    "collapsed": true
   },
   "outputs": [],
   "source": []
  }
 ],
 "metadata": {
  "kernelspec": {
   "display_name": "Python [py3]",
   "language": "python",
   "name": "Python [py3]"
  },
  "language_info": {
   "codemirror_mode": {
    "name": "ipython",
    "version": 3
   },
   "file_extension": ".py",
   "mimetype": "text/x-python",
   "name": "python",
   "nbconvert_exporter": "python",
   "pygments_lexer": "ipython3",
   "version": "3.6.0"
  }
 },
 "nbformat": 4,
 "nbformat_minor": 2
}
